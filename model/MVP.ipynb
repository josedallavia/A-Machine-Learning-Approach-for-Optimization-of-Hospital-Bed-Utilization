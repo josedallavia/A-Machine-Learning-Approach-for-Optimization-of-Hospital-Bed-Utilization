{
 "cells": [
  {
   "cell_type": "code",
   "execution_count": 1,
   "metadata": {},
   "outputs": [],
   "source": [
    "import os\n",
    "import pandas as pd\n",
    "from matplotlib import pyplot as plt   \n",
    "              "
   ]
  },
  {
   "cell_type": "code",
   "execution_count": 2,
   "metadata": {},
   "outputs": [],
   "source": [
    "def load_datasets(parquets_folder,load_test=False):    \n",
    "    \n",
    "    path= parquets_folder+'/'\n",
    "    \n",
    "    filenames = ['hospital_train_data.parquet','hospital_val_data.parquet','hospital_test_data.parquet']\n",
    "    \n",
    "    \n",
    "    for file in filenames:\n",
    "        if not os.path.isfile(path+file):\n",
    "            print(file, 'not available in the specified folder')\n",
    "        else:\n",
    "            if '_train_' in file and not load_test:\n",
    "                print('Loading dataset: ',file)\n",
    "                train_data = pd.read_parquet(path+file)\n",
    "            elif '_val_' in file and not load_test:\n",
    "                print('Loading dataset: ',file)\n",
    "                val_data = pd.read_parquet(path+file)\n",
    "            elif '_test_' in file and load_test:\n",
    "                print('Loading dataset: ',file)\n",
    "                test_data = pd.read_parquet(path+file)\n",
    "        \n",
    "    return (train_data,val_data) if not load_test else test_data\n",
    "        \n",
    "                    "
   ]
  },
  {
   "cell_type": "code",
   "execution_count": 3,
   "metadata": {},
   "outputs": [
    {
     "name": "stdout",
     "output_type": "stream",
     "text": [
      "/Users/josefinadallavia/Documents/MIM/Tesis/A-Machine-Learning-Approach-for-Prediction-of-Hospital-Bed-Availability\n"
     ]
    }
   ],
   "source": [
    "%cd /Users/josefinadallavia/Documents/MIM/Tesis/A-Machine-Learning-Approach-for-Prediction-of-Hospital-Bed-Availability/"
   ]
  },
  {
   "cell_type": "code",
   "execution_count": 4,
   "metadata": {},
   "outputs": [
    {
     "name": "stdout",
     "output_type": "stream",
     "text": [
      "Loading dataset:  hospital_train_data.parquet\n",
      "Loading dataset:  hospital_val_data.parquet\n"
     ]
    }
   ],
   "source": [
    "train_set, val_set = load_datasets('data/hospital_dataset')"
   ]
  },
  {
   "cell_type": "code",
   "execution_count": 5,
   "metadata": {},
   "outputs": [],
   "source": [
    "pd.options.display.max_columns = None"
   ]
  },
  {
   "cell_type": "code",
   "execution_count": 6,
   "metadata": {},
   "outputs": [],
   "source": [
    "train_set['admission_weekday'] = pd.to_datetime(train_set['admission_date']).dt.weekday.astype('str')\n",
    "train_set['date_weekday'] = pd.to_datetime(train_set['date']).dt.weekday.astype('str')"
   ]
  },
  {
   "cell_type": "code",
   "execution_count": 7,
   "metadata": {},
   "outputs": [],
   "source": [
    "val_set['admission_weekday'] = pd.to_datetime(val_set['admission_date']).dt.weekday.astype('str')\n",
    "val_set['date_weekday'] = pd.to_datetime(val_set['date']).dt.weekday.astype('str')"
   ]
  },
  {
   "cell_type": "code",
   "execution_count": 8,
   "metadata": {},
   "outputs": [],
   "source": [
    "categorical = []\n",
    "numerical = []\n",
    "for col in train_set:\n",
    "    if train_set[col].dtype == 'object':\n",
    "        if train_set[col].nunique() < 10:\n",
    "            categorical.append(col)\n",
    "    elif train_set[col].dtype in ['float', 'int'] and col != 'discharge':\n",
    "        numerical.append(col)"
   ]
  },
  {
   "cell_type": "code",
   "execution_count": 9,
   "metadata": {},
   "outputs": [
    {
     "data": {
      "text/plain": [
       "['gender',\n",
       " 'entity_group',\n",
       " 'origin',\n",
       " 'isolation',\n",
       " 'ARM_TEP',\n",
       " 'CEC_TEP',\n",
       " 'request_sector',\n",
       " 'admission_weekday',\n",
       " 'date_weekday']"
      ]
     },
     "execution_count": 9,
     "metadata": {},
     "output_type": "execute_result"
    }
   ],
   "source": [
    "categorical"
   ]
  },
  {
   "cell_type": "code",
   "execution_count": 10,
   "metadata": {},
   "outputs": [
    {
     "data": {
      "text/plain": [
       "['hosp_day_number',\n",
       " 'images_count',\n",
       " 'images_cumulative',\n",
       " 'images_emergencies',\n",
       " 'images_requester_roles_count',\n",
       " 'images_requesters_count',\n",
       " 'images_study_types_count',\n",
       " 'labos_count',\n",
       " 'labos_cumulative',\n",
       " 'labos_emergencies',\n",
       " 'labos_requester_roles_count',\n",
       " 'labos_requesters_count',\n",
       " 'labos_set_count',\n",
       " 'labos_set_cumulative',\n",
       " 'sectors_count',\n",
       " 'sectors_last_stay',\n",
       " 'surgeries_count',\n",
       " 'surgeries_cumulative',\n",
       " 'surgeries_post_surgery_duration',\n",
       " 'surgeries_pre_surgery_duration',\n",
       " 'surgeries_prep_duration',\n",
       " 'surgeries_services_count',\n",
       " 'surgeries_surgery_delay',\n",
       " 'surgeries_surgery_duration',\n",
       " 'surgeries_types_count',\n",
       " 'emergency_service',\n",
       " 'new_born_weight',\n",
       " 'new_born_gestation_age',\n",
       " 'PIM2TEP',\n",
       " 'high_risk_TEP',\n",
       " 'low_risk_TEP',\n",
       " 'patient_age']"
      ]
     },
     "execution_count": 10,
     "metadata": {},
     "output_type": "execute_result"
    }
   ],
   "source": [
    "numerical"
   ]
  },
  {
   "cell_type": "code",
   "execution_count": 11,
   "metadata": {},
   "outputs": [],
   "source": [
    "from sklearn.preprocessing import OneHotEncoder\n",
    "from sklearn.preprocessing import LabelBinarizer\n",
    "from sklearn.pipeline import Pipeline\n",
    "from sklearn.preprocessing import StandardScaler"
   ]
  },
  {
   "cell_type": "code",
   "execution_count": 12,
   "metadata": {},
   "outputs": [],
   "source": [
    "from sklearn.base import BaseEstimator, TransformerMixin\n",
    "\n",
    "class CategoricalSelector(BaseEstimator, TransformerMixin):\n",
    "    \"\"\"\n",
    "    Transformer to select a single column from the data frame to perform additional transformations on\n",
    "    Use on categorical columns in the data\n",
    "    \"\"\"\n",
    "    def __init__(self, keys):\n",
    "        self.keys = keys\n",
    "\n",
    "    def fit(self, X, y=None):\n",
    "        return self\n",
    "\n",
    "    def transform(self, X):\n",
    "        return X[self.keys].astype(str)\n",
    "    \n",
    "class NumberSelector(BaseEstimator, TransformerMixin):\n",
    "    \"\"\"\n",
    "    Transformer to select a single column from the data frame to perform additional transformations on\n",
    "    Use on numeric columns in the data\n",
    "    \"\"\"\n",
    "    def __init__(self, key):\n",
    "        self.key = key\n",
    "\n",
    "    def fit(self, X, y=None):\n",
    "        return self\n",
    "\n",
    "    def transform(self, X):\n",
    "        return X[[self.key]]"
   ]
  },
  {
   "cell_type": "code",
   "execution_count": 13,
   "metadata": {},
   "outputs": [],
   "source": [
    "from sklearn.pipeline import Pipeline"
   ]
  },
  {
   "cell_type": "code",
   "execution_count": 14,
   "metadata": {},
   "outputs": [],
   "source": [
    "categories = Pipeline([\n",
    "                ('selector', CategoricalSelector(keys=categorical)),\n",
    "                ('binarizer', OneHotEncoder())\n",
    "            ])"
   ]
  },
  {
   "cell_type": "code",
   "execution_count": 15,
   "metadata": {},
   "outputs": [],
   "source": [
    "from sklearn.preprocessing import StandardScaler\n",
    "\n",
    "numbers =  Pipeline([\n",
    "                ('selector', NumberSelector(key='hosp_day_number')),\n",
    "                ('standard', StandardScaler())\n",
    "            ])"
   ]
  },
  {
   "cell_type": "code",
   "execution_count": 16,
   "metadata": {},
   "outputs": [],
   "source": [
    "from sklearn.pipeline import FeatureUnion\n",
    "\n",
    "feats = FeatureUnion([('categories', categories), \n",
    "                      ('numerical', numbers)])"
   ]
  },
  {
   "cell_type": "code",
   "execution_count": 17,
   "metadata": {},
   "outputs": [
    {
     "data": {
      "text/plain": [
       "<319150x47 sparse matrix of type '<class 'numpy.float64'>'\n",
       "\twith 3191500 stored elements in Compressed Sparse Row format>"
      ]
     },
     "execution_count": 17,
     "metadata": {},
     "output_type": "execute_result"
    }
   ],
   "source": [
    "feature_processing = Pipeline([('feats', feats)])\n",
    "feature_processing.fit_transform(train_set.fillna(0))"
   ]
  },
  {
   "cell_type": "code",
   "execution_count": 18,
   "metadata": {},
   "outputs": [],
   "source": [
    "import lightgbm as lgb"
   ]
  },
  {
   "cell_type": "code",
   "execution_count": 19,
   "metadata": {},
   "outputs": [],
   "source": [
    "y_train = train_set['discharge']\n",
    "y_val = val_set['discharge']"
   ]
  },
  {
   "cell_type": "code",
   "execution_count": 20,
   "metadata": {},
   "outputs": [],
   "source": [
    "X_train = train_set.drop('discharge',axis=1)\n",
    "X_val = val_set.drop('discharge',axis=1)"
   ]
  },
  {
   "cell_type": "code",
   "execution_count": null,
   "metadata": {},
   "outputs": [],
   "source": [
    "for col in categorical:\n",
    "    \n",
    "    X_train[col] = X_train[col].astype('category')\n",
    "    X_train[col] = pd.Categorical(X_train[col].cat.codes+1)\n",
    "    \n",
    "    X_val[col] = X_val[col].astype('category')\n",
    "    X_val[col] = pd.Categorical(X_val[col].cat.codes+1)"
   ]
  },
  {
   "cell_type": "code",
   "execution_count": null,
   "metadata": {},
   "outputs": [],
   "source": [
    "train_data = lgb.Dataset(X_train[categorical+numerical], \n",
    "                         label=y_train, \n",
    "                         feature_name=categorical+numerical, \n",
    "                         categorical_feature=categorical)\n",
    "train_data.save_binary('data/hospital_dataset/train.bin')\n",
    "\n",
    "\n"
   ]
  },
  {
   "cell_type": "code",
   "execution_count": null,
   "metadata": {},
   "outputs": [],
   "source": [
    "validation_data.save_binary('data/hospital_dataset/validation.bin')"
   ]
  },
  {
   "cell_type": "code",
   "execution_count": null,
   "metadata": {},
   "outputs": [],
   "source": [
    "validation_data = lgb.Dataset(val_set[categorical+numerical], \n",
    "                              label=y_val, \n",
    "                              reference=train_data,\n",
    "                              feature_name=categorical+numerical, \n",
    "                              categorical_feature=categorical\n",
    "                             )"
   ]
  }
 ],
 "metadata": {
  "kernelspec": {
   "display_name": "Python 3",
   "language": "python",
   "name": "python3"
  },
  "language_info": {
   "codemirror_mode": {
    "name": "ipython",
    "version": 3
   },
   "file_extension": ".py",
   "mimetype": "text/x-python",
   "name": "python",
   "nbconvert_exporter": "python",
   "pygments_lexer": "ipython3",
   "version": "3.6.4"
  }
 },
 "nbformat": 4,
 "nbformat_minor": 2
}
