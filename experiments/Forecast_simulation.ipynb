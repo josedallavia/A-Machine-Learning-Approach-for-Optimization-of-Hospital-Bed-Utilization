{
 "cells": [
  {
   "cell_type": "code",
   "execution_count": 1,
   "metadata": {},
   "outputs": [],
   "source": [
    "import pandas as pd\n",
    "import pickle as pkl\n",
    "import seaborn as sns\n",
    "from numpy import mean\n",
    "from matplotlib import pyplot as plt\n",
    "import lightgbm as lgbm"
   ]
  },
  {
   "cell_type": "code",
   "execution_count": 2,
   "metadata": {
    "scrolled": true
   },
   "outputs": [
    {
     "name": "stdout",
     "output_type": "stream",
     "text": [
      "/Users/josefinadallavia/Documents/MIM/Tesis/AML-hospital\n"
     ]
    }
   ],
   "source": [
    "%cd /Users/josefinadallavia/Documents/MIM/Tesis/AML-hospital/"
   ]
  },
  {
   "cell_type": "markdown",
   "metadata": {},
   "source": [
    "### Load model"
   ]
  },
  {
   "cell_type": "code",
   "execution_count": 3,
   "metadata": {
    "scrolled": true
   },
   "outputs": [
    {
     "name": "stderr",
     "output_type": "stream",
     "text": [
      "/Users/josefinadallavia/opt/anaconda3/lib/python3.7/importlib/_bootstrap.py:219: RuntimeWarning: numpy.ufunc size changed, may indicate binary incompatibility. Expected 192 from C header, got 216 from PyObject\n",
      "  return f(*args, **kwds)\n",
      "/Users/josefinadallavia/opt/anaconda3/lib/python3.7/importlib/_bootstrap.py:219: RuntimeWarning: numpy.ufunc size changed, may indicate binary incompatibility. Expected 192 from C header, got 216 from PyObject\n",
      "  return f(*args, **kwds)\n",
      "/Users/josefinadallavia/opt/anaconda3/lib/python3.7/importlib/_bootstrap.py:219: RuntimeWarning: numpy.ufunc size changed, may indicate binary incompatibility. Expected 192 from C header, got 216 from PyObject\n",
      "  return f(*args, **kwds)\n"
     ]
    }
   ],
   "source": [
    "with open(r\"experiments/optimized_gdbt_model.pkl\", \"rb\") as input_file:\n",
    "    lgbm_model = pkl.load(input_file)"
   ]
  },
  {
   "cell_type": "markdown",
   "metadata": {},
   "source": [
    "### Load data"
   ]
  },
  {
   "cell_type": "code",
   "execution_count": 4,
   "metadata": {
    "scrolled": true
   },
   "outputs": [
    {
     "name": "stdout",
     "output_type": "stream",
     "text": [
      "Loading dataset:  hospital_train_data.parquet\n",
      "Loading dataset:  hospital_val_data.parquet\n",
      "Loading dataset:  hospital_test_data.parquet\n"
     ]
    },
    {
     "data": {
      "text/html": [
       "<div>\n",
       "<style scoped>\n",
       "    .dataframe tbody tr th:only-of-type {\n",
       "        vertical-align: middle;\n",
       "    }\n",
       "\n",
       "    .dataframe tbody tr th {\n",
       "        vertical-align: top;\n",
       "    }\n",
       "\n",
       "    .dataframe thead th {\n",
       "        text-align: right;\n",
       "    }\n",
       "</style>\n",
       "<table border=\"1\" class=\"dataframe\">\n",
       "  <thead>\n",
       "    <tr style=\"text-align: right;\">\n",
       "      <th>dataset_type</th>\n",
       "      <th>train</th>\n",
       "      <th>val</th>\n",
       "      <th>test</th>\n",
       "    </tr>\n",
       "  </thead>\n",
       "  <tbody>\n",
       "    <tr>\n",
       "      <th>n_observations</th>\n",
       "      <td>319150</td>\n",
       "      <td>33482</td>\n",
       "      <td>33309</td>\n",
       "    </tr>\n",
       "    <tr>\n",
       "      <th>relative_size</th>\n",
       "      <td>0.82694</td>\n",
       "      <td>0.0867542</td>\n",
       "      <td>0.0863059</td>\n",
       "    </tr>\n",
       "    <tr>\n",
       "      <th>n_cols</th>\n",
       "      <td>71</td>\n",
       "      <td>71</td>\n",
       "      <td>71</td>\n",
       "    </tr>\n",
       "    <tr>\n",
       "      <th>positives</th>\n",
       "      <td>42697</td>\n",
       "      <td>4555</td>\n",
       "      <td>4507</td>\n",
       "    </tr>\n",
       "    <tr>\n",
       "      <th>negatives</th>\n",
       "      <td>276453</td>\n",
       "      <td>28927</td>\n",
       "      <td>28802</td>\n",
       "    </tr>\n",
       "    <tr>\n",
       "      <th>positive_prop</th>\n",
       "      <td>0.133783</td>\n",
       "      <td>0.136043</td>\n",
       "      <td>0.135309</td>\n",
       "    </tr>\n",
       "    <tr>\n",
       "      <th>negative_prop</th>\n",
       "      <td>0.866217</td>\n",
       "      <td>0.863957</td>\n",
       "      <td>0.864691</td>\n",
       "    </tr>\n",
       "    <tr>\n",
       "      <th>min_date</th>\n",
       "      <td>2017-01-01</td>\n",
       "      <td>2018-11-11</td>\n",
       "      <td>2018-11-11</td>\n",
       "    </tr>\n",
       "    <tr>\n",
       "      <th>max_date</th>\n",
       "      <td>2018-11-10</td>\n",
       "      <td>2019-11-11</td>\n",
       "      <td>2019-11-11</td>\n",
       "    </tr>\n",
       "  </tbody>\n",
       "</table>\n",
       "</div>"
      ],
      "text/plain": [
       "dataset_type         train         val        test\n",
       "n_observations      319150       33482       33309\n",
       "relative_size      0.82694   0.0867542   0.0863059\n",
       "n_cols                  71          71          71\n",
       "positives            42697        4555        4507\n",
       "negatives           276453       28927       28802\n",
       "positive_prop     0.133783    0.136043    0.135309\n",
       "negative_prop     0.866217    0.863957    0.864691\n",
       "min_date        2017-01-01  2018-11-11  2018-11-11\n",
       "max_date        2018-11-10  2019-11-11  2019-11-11"
      ]
     },
     "execution_count": 4,
     "metadata": {},
     "output_type": "execute_result"
    }
   ],
   "source": [
    "import os\n",
    "import pandas as pd\n",
    "from matplotlib import pyplot as plt   \n",
    "os.environ['KMP_DUPLICATE_LIB_OK']='True'\n",
    "from thesis_lib.utils import * \n",
    "from thesis_lib.modelling.data import *\n",
    "from thesis_lib.modelling.model import *\n",
    "data = Data().load('data/hospital_dataset')\n",
    "data.get_stats()"
   ]
  },
  {
   "cell_type": "markdown",
   "metadata": {},
   "source": [
    "### Generate probabilities"
   ]
  },
  {
   "cell_type": "code",
   "execution_count": 5,
   "metadata": {},
   "outputs": [
    {
     "name": "stdout",
     "output_type": "stream",
     "text": [
      "Fitting pipeline...\n",
      "Transforming data...\n"
     ]
    }
   ],
   "source": [
    "lgbm_model.transform(data, transform_test=True)"
   ]
  },
  {
   "cell_type": "code",
   "execution_count": 6,
   "metadata": {},
   "outputs": [],
   "source": [
    "predicted_prob_test = lgbm_model.predict(lgbm_model.X_test)\n",
    "y_test_pred = pd.DataFrame({'predicted_prob':predicted_prob_test})"
   ]
  },
  {
   "cell_type": "code",
   "execution_count": 7,
   "metadata": {},
   "outputs": [],
   "source": [
    "data.test.X.reset_index(inplace=True)\n",
    "\n",
    "X_test= data.test.X.join(y_test_pred)\n",
    "y_test = data.test.y.reset_index()\n",
    "X_test = X_test.join(y_test['discharge'])\n",
    "#pd.set_option('display.max_columns', None)\n",
    "df = X_test[['date','predicted_prob','discharge']]"
   ]
  },
  {
   "cell_type": "code",
   "execution_count": 8,
   "metadata": {},
   "outputs": [],
   "source": [
    "df.to_parquet('test_data_w_predictions.parquet')"
   ]
  },
  {
   "cell_type": "markdown",
   "metadata": {},
   "source": [
    "### Simulate forecast"
   ]
  },
  {
   "cell_type": "code",
   "execution_count": 9,
   "metadata": {
    "scrolled": false
   },
   "outputs": [
    {
     "name": "stderr",
     "output_type": "stream",
     "text": [
      "  0%|          | 0/100 [00:00<?, ?it/s]/Users/josefinadallavia/opt/anaconda3/lib/python3.7/site-packages/ipykernel_launcher.py:13: SettingWithCopyWarning: \n",
      "A value is trying to be set on a copy of a slice from a DataFrame.\n",
      "Try using .loc[row_indexer,col_indexer] = value instead\n",
      "\n",
      "See the caveats in the documentation: https://pandas.pydata.org/pandas-docs/stable/user_guide/indexing.html#returning-a-view-versus-a-copy\n",
      "  del sys.path[0]\n",
      "100%|██████████| 100/100 [01:29<00:00,  1.12it/s]\n"
     ]
    }
   ],
   "source": [
    "from tqdm import tqdm\n",
    "\n",
    "results = {'threshold': [],\n",
    "           'date':[],\n",
    "           'actual_discharges': [],\n",
    "           'predicted_discharges': [],\n",
    "           'patients': []}\n",
    "\n",
    "unique_dates = list(df.date.unique())\n",
    "\n",
    "for i in tqdm(range(0,100,1)):\n",
    "    threshold = i/100\n",
    "    df['predicted_discharges'] = df['predicted_prob'].apply(lambda x:1 if x > threshold else 0)\n",
    "    \n",
    "    for date in unique_dates:\n",
    "        #Filter df\n",
    "        df_date =  df[df['date'] == date]\n",
    "        discharges = df_date['discharge'].sum()\n",
    "        predicted_discharges = df_date['predicted_discharges'].sum()\n",
    "        n_patients = len(df_date)\n",
    "        \n",
    "        \n",
    "        #Save data in dict\n",
    "        results['threshold'].append(float(threshold))\n",
    "        results['date'].append(date)\n",
    "        results['actual_discharges'].append(discharges)\n",
    "        results['predicted_discharges'].append(predicted_discharges)\n",
    "        results['patients'].append(n_patients)"
   ]
  },
  {
   "cell_type": "code",
   "execution_count": 10,
   "metadata": {},
   "outputs": [],
   "source": [
    "prediction_results = pd.DataFrame(results)"
   ]
  },
  {
   "cell_type": "code",
   "execution_count": 11,
   "metadata": {},
   "outputs": [],
   "source": [
    "prediction_results['predicted_discharges_happened'] = (prediction_results['actual_discharges'] > \n",
    "                                                       prediction_results['predicted_discharges'])"
   ]
  },
  {
   "cell_type": "code",
   "execution_count": 12,
   "metadata": {
    "scrolled": false
   },
   "outputs": [],
   "source": [
    "import datetime\n",
    "pd.set_option('display.max_rows', 100)\n",
    "sample = prediction_results[(prediction_results['date'] == datetime.date(2019,11,9))]"
   ]
  },
  {
   "cell_type": "code",
   "execution_count": 32,
   "metadata": {},
   "outputs": [],
   "source": [
    "sample.rename(columns={'patients':'observations'}, inplace=True)"
   ]
  },
  {
   "cell_type": "code",
   "execution_count": 36,
   "metadata": {
    "scrolled": false
   },
   "outputs": [
    {
     "data": {
      "text/html": [
       "<div>\n",
       "<style scoped>\n",
       "    .dataframe tbody tr th:only-of-type {\n",
       "        vertical-align: middle;\n",
       "    }\n",
       "\n",
       "    .dataframe tbody tr th {\n",
       "        vertical-align: top;\n",
       "    }\n",
       "\n",
       "    .dataframe thead th {\n",
       "        text-align: right;\n",
       "    }\n",
       "</style>\n",
       "<table border=\"1\" class=\"dataframe\">\n",
       "  <thead>\n",
       "    <tr style=\"text-align: right;\">\n",
       "      <th></th>\n",
       "      <th>threshold</th>\n",
       "      <th>date</th>\n",
       "      <th>actual_discharges</th>\n",
       "      <th>predicted_discharges</th>\n",
       "      <th>observations</th>\n",
       "      <th>predicted_discharges_happened</th>\n",
       "      <th>beds_shortage</th>\n",
       "    </tr>\n",
       "  </thead>\n",
       "  <tbody>\n",
       "    <tr>\n",
       "      <th>0</th>\n",
       "      <td>0.0</td>\n",
       "      <td>2019-11-09</td>\n",
       "      <td>11.0</td>\n",
       "      <td>23</td>\n",
       "      <td>23</td>\n",
       "      <td>False</td>\n",
       "      <td>True</td>\n",
       "    </tr>\n",
       "    <tr>\n",
       "      <th>1</th>\n",
       "      <td>0.1</td>\n",
       "      <td>2019-11-09</td>\n",
       "      <td>11.0</td>\n",
       "      <td>20</td>\n",
       "      <td>23</td>\n",
       "      <td>False</td>\n",
       "      <td>True</td>\n",
       "    </tr>\n",
       "    <tr>\n",
       "      <th>2</th>\n",
       "      <td>0.2</td>\n",
       "      <td>2019-11-09</td>\n",
       "      <td>11.0</td>\n",
       "      <td>14</td>\n",
       "      <td>23</td>\n",
       "      <td>False</td>\n",
       "      <td>True</td>\n",
       "    </tr>\n",
       "    <tr>\n",
       "      <th>3</th>\n",
       "      <td>0.3</td>\n",
       "      <td>2019-11-09</td>\n",
       "      <td>11.0</td>\n",
       "      <td>12</td>\n",
       "      <td>23</td>\n",
       "      <td>False</td>\n",
       "      <td>True</td>\n",
       "    </tr>\n",
       "    <tr>\n",
       "      <th>4</th>\n",
       "      <td>0.4</td>\n",
       "      <td>2019-11-09</td>\n",
       "      <td>11.0</td>\n",
       "      <td>10</td>\n",
       "      <td>23</td>\n",
       "      <td>True</td>\n",
       "      <td>False</td>\n",
       "    </tr>\n",
       "    <tr>\n",
       "      <th>5</th>\n",
       "      <td>0.5</td>\n",
       "      <td>2019-11-09</td>\n",
       "      <td>11.0</td>\n",
       "      <td>8</td>\n",
       "      <td>23</td>\n",
       "      <td>True</td>\n",
       "      <td>False</td>\n",
       "    </tr>\n",
       "    <tr>\n",
       "      <th>6</th>\n",
       "      <td>0.6</td>\n",
       "      <td>2019-11-09</td>\n",
       "      <td>11.0</td>\n",
       "      <td>8</td>\n",
       "      <td>23</td>\n",
       "      <td>True</td>\n",
       "      <td>False</td>\n",
       "    </tr>\n",
       "    <tr>\n",
       "      <th>7</th>\n",
       "      <td>0.7</td>\n",
       "      <td>2019-11-09</td>\n",
       "      <td>11.0</td>\n",
       "      <td>8</td>\n",
       "      <td>23</td>\n",
       "      <td>True</td>\n",
       "      <td>False</td>\n",
       "    </tr>\n",
       "    <tr>\n",
       "      <th>8</th>\n",
       "      <td>0.8</td>\n",
       "      <td>2019-11-09</td>\n",
       "      <td>11.0</td>\n",
       "      <td>7</td>\n",
       "      <td>23</td>\n",
       "      <td>True</td>\n",
       "      <td>False</td>\n",
       "    </tr>\n",
       "    <tr>\n",
       "      <th>9</th>\n",
       "      <td>0.9</td>\n",
       "      <td>2019-11-09</td>\n",
       "      <td>11.0</td>\n",
       "      <td>3</td>\n",
       "      <td>23</td>\n",
       "      <td>True</td>\n",
       "      <td>False</td>\n",
       "    </tr>\n",
       "  </tbody>\n",
       "</table>\n",
       "</div>"
      ],
      "text/plain": [
       "   threshold        date  actual_discharges  predicted_discharges  \\\n",
       "0        0.0  2019-11-09               11.0                    23   \n",
       "1        0.1  2019-11-09               11.0                    20   \n",
       "2        0.2  2019-11-09               11.0                    14   \n",
       "3        0.3  2019-11-09               11.0                    12   \n",
       "4        0.4  2019-11-09               11.0                    10   \n",
       "5        0.5  2019-11-09               11.0                     8   \n",
       "6        0.6  2019-11-09               11.0                     8   \n",
       "7        0.7  2019-11-09               11.0                     8   \n",
       "8        0.8  2019-11-09               11.0                     7   \n",
       "9        0.9  2019-11-09               11.0                     3   \n",
       "\n",
       "   observations  predicted_discharges_happened  beds_shortage  \n",
       "0            23                          False           True  \n",
       "1            23                          False           True  \n",
       "2            23                          False           True  \n",
       "3            23                          False           True  \n",
       "4            23                           True          False  \n",
       "5            23                           True          False  \n",
       "6            23                           True          False  \n",
       "7            23                           True          False  \n",
       "8            23                           True          False  \n",
       "9            23                           True          False  "
      ]
     },
     "execution_count": 36,
     "metadata": {},
     "output_type": "execute_result"
    }
   ],
   "source": [
    "sample[sample.threshold *100 % 10 == 0].reset_index().drop(['index'],axis='columns')"
   ]
  },
  {
   "cell_type": "code",
   "execution_count": 14,
   "metadata": {},
   "outputs": [
    {
     "name": "stderr",
     "output_type": "stream",
     "text": [
      "/Users/josefinadallavia/opt/anaconda3/lib/python3.7/site-packages/ipykernel_launcher.py:1: SettingWithCopyWarning: \n",
      "A value is trying to be set on a copy of a slice from a DataFrame.\n",
      "Try using .loc[row_indexer,col_indexer] = value instead\n",
      "\n",
      "See the caveats in the documentation: https://pandas.pydata.org/pandas-docs/stable/user_guide/indexing.html#returning-a-view-versus-a-copy\n",
      "  \"\"\"Entry point for launching an IPython kernel.\n"
     ]
    }
   ],
   "source": [
    "sample['beds_shortage'] = sample['predicted_discharges'] > sample['actual_discharges']"
   ]
  },
  {
   "cell_type": "code",
   "execution_count": 15,
   "metadata": {},
   "outputs": [
    {
     "data": {
      "image/png": "[encoded data removed]",
      "text/plain": [
       "<Figure size 864x576 with 1 Axes>"
      ]
     },
     "metadata": {},
     "output_type": "display_data"
    }
   ],
   "source": [
    "sns.set(style=\"whitegrid\",font_scale=1.2,font='AppleGothic', palette=\"rainbow\")\n",
    "plt.figure(figsize=(12,8))\n",
    "plt.tight_layout()\n",
    "ax = sns.barplot(x='threshold',y='predicted_discharges', hue='beds_shortage' ,\n",
    "             data= sample[sample.threshold *100 % 10 == 0]\n",
    "            )\n",
    "ax.set_title('Simulation of discharges for a sample day (2019-11-9)')\n",
    "ax.set(ylabel='Predicted discharges')\n",
    "plt.annotate(s='Actual discharges',xy=(0.1,0.5),xytext=(0.7,0.5),xycoords='figure fraction')\n",
    "\n",
    "plt.show()\n"
   ]
  },
  {
   "cell_type": "markdown",
   "metadata": {},
   "source": [
    "plt.figure(figsize=(10,6))\n",
    "ax = sns.lineplot(x='threshold',y='predicted_discharges', \n",
    "             data= prediction_results[(prediction_results['date'] == datetime.date(2019,3,24))],\n",
    "            )\n",
    "ax.set_title('')\n",
    "ax.set(ylabel='')\n",
    "plt.show()"
   ]
  },
  {
   "cell_type": "code",
   "execution_count": 16,
   "metadata": {},
   "outputs": [],
   "source": [
    "summary = prediction_results.groupby('threshold')['predicted_discharges_happened'].mean().reset_index()"
   ]
  },
  {
   "cell_type": "code",
   "execution_count": 17,
   "metadata": {
    "scrolled": false
   },
   "outputs": [
    {
     "data": {
      "image/png": "[encoded data removed]",
      "text/plain": [
       "<Figure size 864x576 with 1 Axes>"
      ]
     },
     "metadata": {},
     "output_type": "display_data"
    }
   ],
   "source": [
    "sns.set(style=\"whitegrid\",font_scale=1.2,font='AppleGothic', palette=\"Blues_r\")\n",
    "plt.figure(figsize=(12,8))\n",
    "ax = sns.lineplot(x=summary['threshold'],y=summary['predicted_discharges_happened']\n",
    "            )\n",
    "ax.set_title('Actual discharges are at least the predicted discharges?')\n",
    "ax.set(ylabel='Proportion of observations')\n",
    "plt.show()"
   ]
  },
  {
   "cell_type": "code",
   "execution_count": 18,
   "metadata": {
    "scrolled": true
   },
   "outputs": [],
   "source": [
    "pd.set_option('display.max_rows', None)"
   ]
  },
  {
   "cell_type": "code",
   "execution_count": 19,
   "metadata": {},
   "outputs": [],
   "source": [
    "summary['confidence'] = summary['predicted_discharges_happened']"
   ]
  },
  {
   "cell_type": "code",
   "execution_count": 20,
   "metadata": {},
   "outputs": [],
   "source": [
    "confidence_dict = {'95': summary[summary['confidence']> 0.95]['threshold'].min(),\n",
    "                  '90': summary[summary['confidence']> 0.90]['threshold'].min(),\n",
    "                  '80': summary[summary['confidence']> 0.80]['threshold'].min(),\n",
    "                  '70': summary[summary['confidence']> 0.70]['threshold'].min()}"
   ]
  },
  {
   "cell_type": "code",
   "execution_count": 47,
   "metadata": {},
   "outputs": [],
   "source": [
    "import json"
   ]
  },
  {
   "cell_type": "code",
   "execution_count": 49,
   "metadata": {},
   "outputs": [],
   "source": [
    "with open('confidence_dict.json', 'w') as json_file:\n",
    "    json.dump(confidence_dict, json_file)"
   ]
  },
  {
   "cell_type": "code",
   "execution_count": 50,
   "metadata": {},
   "outputs": [],
   "source": [
    "with open('confidence_dict.json', 'r') as json_file:\n",
    "    confidence_dict = json.load(json_file)"
   ]
  },
  {
   "cell_type": "code",
   "execution_count": 51,
   "metadata": {},
   "outputs": [
    {
     "data": {
      "text/plain": [
       "{'95': 0.85, '90': 0.8, '80': 0.76, '70': 0.73}"
      ]
     },
     "execution_count": 51,
     "metadata": {},
     "output_type": "execute_result"
    }
   ],
   "source": [
    "confidence_dict"
   ]
  },
  {
   "cell_type": "code",
   "execution_count": 45,
   "metadata": {},
   "outputs": [],
   "source": [
    "def forecast_discharges(date, confidence_thresholds=confidence_dict):\n",
    "    \n",
    "    data = Data().load('data/hospital_dataset')\n",
    "    date_data = data.test.X[data.test.X['date']== date ]\n",
    "    \n",
    "    output = {'confidence %': [],\n",
    "             'lower bound forecast': []}  \n",
    "    \n",
    "    with open(r\"experiments/optimized_gdbt_model.pkl\", \"rb\") as input_file:\n",
    "        lgbm_model = pkl.load(input_file)\n",
    "        \n",
    "    transformed_data = lgbm_model.pipeline.transform(date_data)\n",
    "    predictions = lgbm_model.predict(transformed_data)\n",
    "    \n",
    "    \n",
    "    for confidence_level in confidence_thresholds:\n",
    "        threshold = confidence_thresholds[confidence_level]\n",
    "        forecast = sum([1 for prob in predictions if prob > threshold])\n",
    "        \n",
    "        print(('With {p} % of confidence, number of discharges will be at least {N}'\n",
    "                .format(p=confidence_level,N=forecast)))\n",
    "        \n",
    "        output['confidence %'].append(confidence_level)\n",
    "        output['lower bound forecast'].append(forecast)\n",
    "    \n",
    "    \n",
    "    return pd.DataFrame(output) "
   ]
  },
  {
   "cell_type": "code",
   "execution_count": 22,
   "metadata": {},
   "outputs": [],
   "source": [
    "date_df = data.test.X[data.test.X['date']== unique_dates[20]]"
   ]
  },
  {
   "cell_type": "code",
   "execution_count": 23,
   "metadata": {},
   "outputs": [
    {
     "data": {
      "text/plain": [
       "datetime.date(2019, 10, 22)"
      ]
     },
     "execution_count": 23,
     "metadata": {},
     "output_type": "execute_result"
    }
   ],
   "source": [
    "unique_dates[20]"
   ]
  },
  {
   "cell_type": "code",
   "execution_count": 28,
   "metadata": {},
   "outputs": [],
   "source": [
    "import warnings\n",
    "warnings.filterwarnings('ignore')"
   ]
  },
  {
   "cell_type": "code",
   "execution_count": 46,
   "metadata": {},
   "outputs": [
    {
     "name": "stdout",
     "output_type": "stream",
     "text": [
      "Loading dataset:  hospital_train_data.parquet\n",
      "Loading dataset:  hospital_val_data.parquet\n",
      "Loading dataset:  hospital_test_data.parquet\n",
      "With 95 % of confidence, number of discharges will be at least 6\n",
      "With 90 % of confidence, number of discharges will be at least 8\n",
      "With 80 % of confidence, number of discharges will be at least 9\n",
      "With 70 % of confidence, number of discharges will be at least 10\n"
     ]
    },
    {
     "data": {
      "text/html": [
       "<div>\n",
       "<style scoped>\n",
       "    .dataframe tbody tr th:only-of-type {\n",
       "        vertical-align: middle;\n",
       "    }\n",
       "\n",
       "    .dataframe tbody tr th {\n",
       "        vertical-align: top;\n",
       "    }\n",
       "\n",
       "    .dataframe thead th {\n",
       "        text-align: right;\n",
       "    }\n",
       "</style>\n",
       "<table border=\"1\" class=\"dataframe\">\n",
       "  <thead>\n",
       "    <tr style=\"text-align: right;\">\n",
       "      <th></th>\n",
       "      <th>confidence %</th>\n",
       "      <th>lower bound forecast</th>\n",
       "    </tr>\n",
       "  </thead>\n",
       "  <tbody>\n",
       "    <tr>\n",
       "      <th>0</th>\n",
       "      <td>95</td>\n",
       "      <td>6</td>\n",
       "    </tr>\n",
       "    <tr>\n",
       "      <th>1</th>\n",
       "      <td>90</td>\n",
       "      <td>8</td>\n",
       "    </tr>\n",
       "    <tr>\n",
       "      <th>2</th>\n",
       "      <td>80</td>\n",
       "      <td>9</td>\n",
       "    </tr>\n",
       "    <tr>\n",
       "      <th>3</th>\n",
       "      <td>70</td>\n",
       "      <td>10</td>\n",
       "    </tr>\n",
       "  </tbody>\n",
       "</table>\n",
       "</div>"
      ],
      "text/plain": [
       "  confidence %  lower bound forecast\n",
       "0           95                     6\n",
       "1           90                     8\n",
       "2           80                     9\n",
       "3           70                    10"
      ]
     },
     "execution_count": 46,
     "metadata": {},
     "output_type": "execute_result"
    }
   ],
   "source": [
    "date = datetime.date(2019,10,22)\n",
    "forecast_discharges(date)"
   ]
  },
  {
   "cell_type": "code",
   "execution_count": null,
   "metadata": {},
   "outputs": [],
   "source": []
  }
 ],
 "metadata": {
  "kernelspec": {
   "display_name": "Python 3",
   "language": "python",
   "name": "python3"
  },
  "language_info": {
   "codemirror_mode": {
    "name": "ipython",
    "version": 3
   },
   "file_extension": ".py",
   "mimetype": "text/x-python",
   "name": "python",
   "nbconvert_exporter": "python",
   "pygments_lexer": "ipython3",
   "version": "3.7.6"
  }
 },
 "nbformat": 4,
 "nbformat_minor": 4
}
