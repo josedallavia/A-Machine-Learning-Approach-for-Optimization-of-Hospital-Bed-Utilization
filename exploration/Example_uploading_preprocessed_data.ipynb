{
 "cells": [
  {
   "cell_type": "code",
   "execution_count": 2,
   "metadata": {},
   "outputs": [],
   "source": [
    "import pandas as pd\n",
    "import os\n",
    "import shutil\n",
    "import matplotlib.pyplot as plt \n",
    "\n",
    "pd.set_option('display.max_columns', None)  \n",
    "from thesis_lib.data_processing import *"
   ]
  },
  {
   "cell_type": "markdown",
   "metadata": {},
   "source": [
    "### Load full DB"
   ]
  },
  {
   "cell_type": "code",
   "execution_count": null,
   "metadata": {
    "scrolled": false
   },
   "outputs": [
    {
     "name": "stdout",
     "output_type": "stream",
     "text": [
      "Loading dataset:  laboratory\n",
      "\t 3086085\n",
      "Loading dataset:  images\n",
      "\t 350403\n",
      "Loading dataset:  hospitalizations\n",
      "\t 88256\n",
      "Loading dataset:  surgeries\n",
      "\t 66750\n",
      "Loading dataset:  sectors_admissions\n",
      "\t 154481\n",
      "Loading dataset:  hospital_sectors\n",
      "\t 36\n",
      "Formating integer columns\n",
      "Formating date columns\n",
      "Formating time columns\n"
     ]
    }
   ],
   "source": [
    "db = load_parquet('parquet_data')"
   ]
  },
  {
   "cell_type": "markdown",
   "metadata": {},
   "source": [
    "### Load only one table"
   ]
  },
  {
   "cell_type": "code",
   "execution_count": null,
   "metadata": {},
   "outputs": [],
   "source": [
    "hospitalizations = load_parquet('parquet_data', 'hospitalizations')"
   ]
  },
  {
   "cell_type": "code",
   "execution_count": null,
   "metadata": {},
   "outputs": [],
   "source": []
  }
 ],
 "metadata": {
  "kernelspec": {
   "display_name": "Python 3",
   "language": "python",
   "name": "python3"
  },
  "language_info": {
   "codemirror_mode": {
    "name": "ipython",
    "version": 3
   },
   "file_extension": ".py",
   "mimetype": "text/x-python",
   "name": "python",
   "nbconvert_exporter": "python",
   "pygments_lexer": "ipython3",
   "version": "3.6.4"
  }
 },
 "nbformat": 4,
 "nbformat_minor": 2
}
