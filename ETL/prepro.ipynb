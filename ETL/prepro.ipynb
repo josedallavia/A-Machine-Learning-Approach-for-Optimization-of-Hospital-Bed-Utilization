{
 "cells": [
  {
   "cell_type": "markdown",
   "metadata": {},
   "source": [
    "# Preprocessing"
   ]
  },
  {
   "cell_type": "markdown",
   "metadata": {},
   "source": [
    "The raw database, as provided by the medical instituion was difficult to process. Files were in different formats, variables refering to the same thing were named differently across tables, data types were not consistent, etc.\n",
    "\n",
    "In this notebook the raw tables have been transformed in a consistent way to make more efficient the later handling of the data. The final output is a directory containing all the hospital tables in .parquet files with columns named consistently across tables and appropiate data types for each variable of the dataset."
   ]
  },
  {
   "cell_type": "markdown",
   "metadata": {},
   "source": [
    "### Import requirements"
   ]
  },
  {
   "cell_type": "code",
   "execution_count": null,
   "metadata": {},
   "outputs": [],
   "source": [
    "import pandas as pd\n",
    "import os\n",
    "import shutil\n",
    "import matplotlib.pyplot as plt \n",
    "\n",
    "pd.set_option('display.max_columns', None)  \n",
    "from thesis_lib.data_processing import *\n",
    "from datetime import datetime"
   ]
  },
  {
   "cell_type": "markdown",
   "metadata": {},
   "source": [
    "### Upload data"
   ]
  },
  {
   "cell_type": "code",
   "execution_count": 2,
   "metadata": {},
   "outputs": [
    {
     "name": "stdout",
     "output_type": "stream",
     "text": [
      "labos.csv\n"
     ]
    },
    {
     "name": "stderr",
     "output_type": "stream",
     "text": [
      "/anaconda3/lib/python3.6/site-packages/IPython/core/interactiveshell.py:2856: DtypeWarning: Columns (29) have mixed types. Specify dtype option on import or set low_memory=False.\n",
      "  if self.run_code(code, result):\n"
     ]
    },
    {
     "name": "stdout",
     "output_type": "stream",
     "text": [
      "labos.csv successfully copied to data/labos.csv\n",
      "internaciones.xlsx\n",
      "internaciones.xlsx successfully converted to csv: data/internaciones.csv\n",
      "ingresos_sectores.xlsx\n",
      "ingresos_sectores.xlsx successfully converted to csv: data/ingresos_sectores.csv\n",
      "cirugias.xlsx\n",
      "cirugias.xlsx successfully converted to csv: data/cirugias.csv\n",
      "sectores.xlsx\n",
      "sectores.xlsx successfully converted to csv: data/sectores.csv\n",
      "images.xlsx\n",
      "images.xlsx successfully converted to csv: data/images.csv\n"
     ]
    }
   ],
   "source": [
    "process_raw_files('SanatorioGüemes','data')"
   ]
  },
  {
   "cell_type": "code",
   "execution_count": 2,
   "metadata": {
    "scrolled": false
   },
   "outputs": [
    {
     "name": "stdout",
     "output_type": "stream",
     "text": [
      "Loading dataset:  images\n",
      "Loading dataset:  laboratories\n"
     ]
    },
    {
     "name": "stderr",
     "output_type": "stream",
     "text": [
      "/anaconda3/lib/python3.6/site-packages/IPython/core/interactiveshell.py:2850: DtypeWarning: Columns (29) have mixed types.Specify dtype option on import or set low_memory=False.\n",
      "  if self.run_code(code, result):\n"
     ]
    },
    {
     "name": "stdout",
     "output_type": "stream",
     "text": [
      "Loading dataset:  hospital_sectors\n",
      "Loading dataset:  sectors_admissions\n",
      "Loading dataset:  surgeries\n"
     ]
    },
    {
     "name": "stderr",
     "output_type": "stream",
     "text": [
      "/anaconda3/lib/python3.6/site-packages/IPython/core/interactiveshell.py:2850: DtypeWarning: Columns (74,77) have mixed types.Specify dtype option on import or set low_memory=False.\n",
      "  if self.run_code(code, result):\n"
     ]
    },
    {
     "name": "stdout",
     "output_type": "stream",
     "text": [
      "Loading dataset:  hospitalizations\n"
     ]
    },
    {
     "name": "stderr",
     "output_type": "stream",
     "text": [
      "/anaconda3/lib/python3.6/site-packages/IPython/core/interactiveshell.py:2850: DtypeWarning: Columns (24,43,56,57) have mixed types.Specify dtype option on import or set low_memory=False.\n",
      "  if self.run_code(code, result):\n"
     ]
    }
   ],
   "source": [
    "db = get_database('data')"
   ]
  },
  {
   "cell_type": "markdown",
   "metadata": {},
   "source": [
    "### Hospitalizations dataset"
   ]
  },
  {
   "cell_type": "markdown",
   "metadata": {},
   "source": [
    "##### Rename columns"
   ]
  },
  {
   "cell_type": "code",
   "execution_count": null,
   "metadata": {},
   "outputs": [],
   "source": [
    "df = db['hospitalizations']"
   ]
  },
  {
   "cell_type": "code",
   "execution_count": 7,
   "metadata": {},
   "outputs": [],
   "source": [
    "series_names = {\n",
    "'Nro Adm': 'admission_id', \n",
    "'Nro H.C.': 'patient_id', \n",
    "'Edad': 'age', \n",
    "'Sexo': 'gender', \n",
    "'Fec Nac': 'birth_date', \n",
    "'Entidad': 'insurance_entity',\n",
    "'AgrupEntidad': 'entity_group' , \n",
    "'Fec Adm': 'admission_date', \n",
    "'Hora Adm': 'admission_time', \n",
    "'AñoAdm': 'admission_year', \n",
    "'MesAdm': 'admission_month',\n",
    "'Procedencia': 'origin', \n",
    "'Médico Admisión': 'admission_physician', \n",
    "'SecAdmisión': 'admission_sector', \n",
    "'SecUltimo': 'last_sector',\n",
    "'CategUlt': 'last_category', \n",
    "'Aislación': 'isolation', \n",
    "'HabitUlt': 'last_room', \n",
    "'CamaUlt': 'last_bed', \n",
    "'Fec Alta': 'discharge_date', \n",
    "'Hora Alta': 'discharge_time',\n",
    "'AñoAlta': 'discharge_year', \n",
    "'MesAlta': 'discharge_month', \n",
    "'Motivo Alta': 'discharge_reason', \n",
    "'PreAlta': 'pre_discharge_date', \n",
    "'1erSecInt': 'first_sector',\n",
    "'Diagnóstico Administrativo No Codificado': 'administrative_diagnosis', \n",
    "'CodDiagPresu': 'diagnosis_code',\n",
    "'Diagnóstico Presuntivo': 'presumptive_dianogsis',\n",
    "'CodCieDiagEgr': 'discharge_diagnosis_code', \n",
    "'Diagnóstico Egreso': 'discharge_diagnosis',\n",
    "'FecDenunEgre': 'date_registered_discharge', \n",
    "'HoraDenunEgre': 'time_registered_discharge', \n",
    "'Médico Denuncia Egreso': 'discharge_physician', \n",
    "'Epicrisis': 'discharge_summary',\n",
    "'MédicoEpicrisis': 'discharge_summary_physician', \n",
    "'Quirurg': 'surgery', \n",
    "'CaderaExpress': 'express_hip_surgery',\n",
    "'Permanencia': 'admission_lenght_days',\n",
    "'Servicio Responsable': 'responsible_sector',\n",
    "'Servicio Co-Responsable': 'second_responsible_sector', \n",
    "'FecHorIngGua': 'emergency_admission_datetime',\n",
    "'Prest.Guardia': 'emergency_service', \n",
    "'Reingreso': 'has_previous_admission', \n",
    "'AdmAntReciente':  'previous_admission_id' ,\n",
    "'FecAdmAntReciente': 'previous_admission_date', \n",
    "'FecAltaAntReciente': 'previous_discharge_date', \n",
    "'SecAntReciente': 'previous_sector',\n",
    "'Diagn. Egreso Admisión Anterior Reciente': 'previous_discharge_dianosis', \n",
    "'AmbulanciaEgreso': 'discharge_ambulance',\n",
    "'PesoAlNacer': 'new_born_weight', \n",
    "'EdadGestac': 'new_born_gestation_age',\n",
    "'PIM2TEP': 'PIM2TEP', \n",
    "'DiagAltoRiesgoTEP': 'high_risk_TEP',\n",
    "'DiagBajoRiesgoTEP': 'low_risk_TEP', \n",
    "'ARM_TEP': 'ARM_TEP', \n",
    "'CEC_TEP': 'CEC_TEP', \n",
    "'SolicDerivación': 'request_number',\n",
    "'OrigDerivación': 'request_origin',\n",
    "'Procedencia.1': 'request', \n",
    "'DiagnósticoDerivación': 'request_diagnosis',\n",
    "'AreaDerivación': 'request_sector',\n",
    "'Notificado': 'notified', \n",
    "'UsuarioDeriv': 'request_user'}"
   ]
  },
  {
   "cell_type": "code",
   "execution_count": 8,
   "metadata": {},
   "outputs": [],
   "source": [
    "df.rename(series_names,axis=1, inplace=True)"
   ]
  },
  {
   "cell_type": "markdown",
   "metadata": {},
   "source": [
    "##### Convert columns"
   ]
  },
  {
   "cell_type": "markdown",
   "metadata": {},
   "source": [
    "Boolean columns"
   ]
  },
  {
   "cell_type": "code",
   "execution_count": 10,
   "metadata": {},
   "outputs": [],
   "source": [
    "boolean_cols = ['discharge_summary',\n",
    "'surgery',\n",
    "'express_hip_surgery',\n",
    "'has_previous_admission',\n",
    "'discharge_ambulance',\n",
    "'ARM_TEP',\n",
    "'CEC_TEP']"
   ]
  },
  {
   "cell_type": "code",
   "execution_count": 11,
   "metadata": {},
   "outputs": [],
   "source": [
    "for col in boolean_cols:\n",
    "    df[col] = df[col].apply(lambda x : True if x == 'Sí' else  (False if x == 'No' else None ))"
   ]
  },
  {
   "cell_type": "markdown",
   "metadata": {},
   "source": [
    "##### Drop duplicated columns"
   ]
  },
  {
   "cell_type": "code",
   "execution_count": 12,
   "metadata": {},
   "outputs": [],
   "source": [
    "columns_to_drop = ['Prestac.Guardia']"
   ]
  },
  {
   "cell_type": "code",
   "execution_count": 13,
   "metadata": {},
   "outputs": [],
   "source": [
    "df.drop(columns_to_drop,axis=1, inplace=True)"
   ]
  },
  {
   "cell_type": "code",
   "execution_count": 15,
   "metadata": {},
   "outputs": [
    {
     "data": {
      "text/plain": [
       "64507"
      ]
     },
     "execution_count": 15,
     "metadata": {},
     "output_type": "execute_result"
    }
   ],
   "source": [
    "len(df.patient_id.unique())"
   ]
  },
  {
   "cell_type": "code",
   "execution_count": 17,
   "metadata": {},
   "outputs": [
    {
     "data": {
      "text/plain": [
       "64156"
      ]
     },
     "execution_count": 17,
     "metadata": {},
     "output_type": "execute_result"
    }
   ],
   "source": [
    "len(df.loc[~df['discharge_date'].isna()].patient_id.unique())"
   ]
  },
  {
   "cell_type": "markdown",
   "metadata": {},
   "source": [
    "##### Delete invalid rows"
   ]
  },
  {
   "cell_type": "code",
   "execution_count": 18,
   "metadata": {},
   "outputs": [],
   "source": [
    "df = df.loc[~df['discharge_date'].isna()]"
   ]
  },
  {
   "cell_type": "markdown",
   "metadata": {},
   "source": [
    "##### Generate datetime cols"
   ]
  },
  {
   "cell_type": "code",
   "execution_count": 21,
   "metadata": {},
   "outputs": [
    {
     "name": "stderr",
     "output_type": "stream",
     "text": [
      "/anaconda3/lib/python3.6/site-packages/ipykernel_launcher.py:3: SettingWithCopyWarning: \n",
      "A value is trying to be set on a copy of a slice from a DataFrame.\n",
      "Try using .loc[row_indexer,col_indexer] = value instead\n",
      "\n",
      "See the caveats in the documentation: https://pandas.pydata.org/pandas-docs/stable/user_guide/indexing.html#returning-a-view-versus-a-copy\n",
      "  This is separate from the ipykernel package so we can avoid doing imports until\n"
     ]
    }
   ],
   "source": [
    "df['admission_datetime'] = pd.to_datetime(df['admission_date'].map(str)+\" \"+\n",
    "                                            df['admission_time'].map(str)\n",
    "                                            )"
   ]
  },
  {
   "cell_type": "code",
   "execution_count": 22,
   "metadata": {},
   "outputs": [
    {
     "name": "stderr",
     "output_type": "stream",
     "text": [
      "/anaconda3/lib/python3.6/site-packages/ipykernel_launcher.py:4: SettingWithCopyWarning: \n",
      "A value is trying to be set on a copy of a slice from a DataFrame.\n",
      "Try using .loc[row_indexer,col_indexer] = value instead\n",
      "\n",
      "See the caveats in the documentation: https://pandas.pydata.org/pandas-docs/stable/user_guide/indexing.html#returning-a-view-versus-a-copy\n",
      "  after removing the cwd from sys.path.\n"
     ]
    }
   ],
   "source": [
    "df['discharge_datetime'] = pd.to_datetime(\n",
    "                                           df['discharge_date'].map(str)+\" \"+\n",
    "                                            df['discharge_time'].map(str),\n",
    "                                            errors='ignore'\n",
    "                                            )"
   ]
  },
  {
   "cell_type": "markdown",
   "metadata": {},
   "source": [
    "##### Save as .parquet"
   ]
  },
  {
   "cell_type": "code",
   "execution_count": 27,
   "metadata": {},
   "outputs": [],
   "source": [
    "df.to_parquet('hospitalizations.parquet')"
   ]
  },
  {
   "cell_type": "markdown",
   "metadata": {},
   "source": [
    "### Laboratories dataset"
   ]
  },
  {
   "cell_type": "markdown",
   "metadata": {},
   "source": [
    "##### Rename columns"
   ]
  },
  {
   "cell_type": "code",
   "execution_count": 17,
   "metadata": {},
   "outputs": [],
   "source": [
    "series_names = { \n",
    "    'Nro Vale': 'labo_id',\n",
    "    'Pun': 'labo_pun',\n",
    "    'Estado': 'status',\n",
    "    'Fecha': 'labo_date', \n",
    "    'Hora': 'labo_time',\n",
    "    'AñoMes':'labo_year-month',\n",
    "    'Sector': 'sector',\n",
    "    'Nro Adm': 'admission_id',\n",
    "    'HistClín': 'patient_id',\n",
    "    'Fec.Adm.': 'admission_date',\n",
    "    'Fec.Alta': 'discharge_date',\n",
    "    'Entidad': 'entity_id',\n",
    "    'Nombre Entidad': 'insurance_entity',\n",
    "    'Nro.Afiliado': 'entity_affiliate_id',\n",
    "    'GrupoEnt': 'entity_group',\n",
    "    'Urgencia': 'emergency',\n",
    "    'Nombre del Solicitante': 'requester_name',\n",
    "    'Función del Solicitante': 'requester_role',\n",
    "    'Prestación': 'study_code',\n",
    "    'Descrip Prestación': 'study_description',\n",
    "    'CantPrest': 'no_of_studies',\n",
    "    }"
   ]
  },
  {
   "cell_type": "code",
   "execution_count": 18,
   "metadata": {},
   "outputs": [],
   "source": [
    "db['laboratories'].rename(series_names,axis=1, inplace=True)"
   ]
  },
  {
   "cell_type": "code",
   "execution_count": 3,
   "metadata": {},
   "outputs": [
    {
     "data": {
      "text/plain": [
       "array(['LABORATORIO'], dtype=object)"
      ]
     },
     "execution_count": 3,
     "metadata": {},
     "output_type": "execute_result"
    }
   ],
   "source": [
    "db['laboratories']['Servicio'].unique()"
   ]
  },
  {
   "cell_type": "markdown",
   "metadata": {},
   "source": [
    "##### Drop cols"
   ]
  },
  {
   "cell_type": "code",
   "execution_count": 20,
   "metadata": {},
   "outputs": [],
   "source": [
    "columns_to_drop = ['Nombre Paciente',\n",
    "                   'HH',\n",
    "                   'Mnemo Serv',\n",
    "                   'Cod Serv',\n",
    "                   'Cod Insumo',\n",
    "                   'Descrip Insumo',\n",
    "                   'CantInsumos',\n",
    "                   'EstadoResultado',\n",
    "                   'Observ.Estudio']"
   ]
  },
  {
   "cell_type": "code",
   "execution_count": 21,
   "metadata": {},
   "outputs": [],
   "source": [
    "db['laboratories'].drop(columns_to_drop,axis=1, inplace=True)"
   ]
  },
  {
   "cell_type": "markdown",
   "metadata": {},
   "source": [
    "##### Save as .parquet"
   ]
  },
  {
   "cell_type": "code",
   "execution_count": 23,
   "metadata": {},
   "outputs": [],
   "source": [
    "db['laboratories'].to_parquet('laboratory.parquet')"
   ]
  },
  {
   "cell_type": "markdown",
   "metadata": {},
   "source": [
    "### Images dataset"
   ]
  },
  {
   "cell_type": "markdown",
   "metadata": {},
   "source": [
    "##### Rename columns"
   ]
  },
  {
   "cell_type": "code",
   "execution_count": 15,
   "metadata": {},
   "outputs": [],
   "source": [
    "series_names = { \n",
    "    'Nro Vale': 'image_id',\n",
    "    'Pun': 'image_pun',\n",
    "    'Estado': 'status',\n",
    "    'Fecha': 'image_date', \n",
    "    'Hora': 'image_time',\n",
    "    'AñoMes':'image_year-month',\n",
    "    'Sector': 'sector',\n",
    "    'Nro Adm': 'admission_id',\n",
    "    'HistClín': 'patient_id',\n",
    "    'Fec.Adm.': 'admission_date',\n",
    "    'Fec.Alta': 'discharge_date',\n",
    "    'Entidad': 'entity_id',\n",
    "    'Nombre Entidad': 'insurance_entity',\n",
    "    'Nro.Afiliado': 'entity_affiliate_id',\n",
    "    'GrupoEnt': 'entity_group',\n",
    "    'Urgencia': 'emergency',\n",
    "    'Nombre del Solicitante': 'requester_name',\n",
    "    'Función del Solicitante': 'requester_role',\n",
    "    'Prestación': 'study_code',\n",
    "    'Descrip Prestación': 'study_description',\n",
    "    'CantPrest': 'no_of_studies',\n",
    "     'Servicio': 'type_of_service'}"
   ]
  },
  {
   "cell_type": "code",
   "execution_count": 16,
   "metadata": {},
   "outputs": [],
   "source": [
    "db['images'].rename(series_names,axis=1, inplace=True)"
   ]
  },
  {
   "cell_type": "markdown",
   "metadata": {},
   "source": [
    "##### Drop columns"
   ]
  },
  {
   "cell_type": "code",
   "execution_count": 17,
   "metadata": {},
   "outputs": [],
   "source": [
    "columns_to_drop = [\n",
    "                   'HH',\n",
    "                   'Mnemo Serv',\n",
    "                   'Cod Serv',\n",
    "                   'Cod Insumo',\n",
    "                   'Descrip Insumo',\n",
    "                   'CantInsumos',\n",
    "                   'Observ.Estudio']"
   ]
  },
  {
   "cell_type": "code",
   "execution_count": 18,
   "metadata": {},
   "outputs": [],
   "source": [
    "db['images'].drop(columns_to_drop,axis=1, inplace=True)"
   ]
  },
  {
   "cell_type": "markdown",
   "metadata": {},
   "source": [
    "##### Save as .parquet"
   ]
  },
  {
   "cell_type": "code",
   "execution_count": 20,
   "metadata": {},
   "outputs": [],
   "source": [
    "db['images'].to_parquet('images.parquet')"
   ]
  },
  {
   "cell_type": "markdown",
   "metadata": {},
   "source": [
    "### Hospital Sectors dataset"
   ]
  },
  {
   "cell_type": "markdown",
   "metadata": {},
   "source": [
    "##### Rename columns"
   ]
  },
  {
   "cell_type": "code",
   "execution_count": 33,
   "metadata": {},
   "outputs": [],
   "source": [
    "series_names = { \n",
    "   'CodSector': 'sector_code',\n",
    "    'NombreSector': 'sector_name',\n",
    "    'TipoSector': 'sector_type'}"
   ]
  },
  {
   "cell_type": "code",
   "execution_count": 34,
   "metadata": {},
   "outputs": [],
   "source": [
    "db['hospital_sectors'].rename(series_names,axis=1, inplace=True)"
   ]
  },
  {
   "cell_type": "markdown",
   "metadata": {},
   "source": [
    "##### Save as .parquet"
   ]
  },
  {
   "cell_type": "code",
   "execution_count": 36,
   "metadata": {},
   "outputs": [],
   "source": [
    "db['hospital_sectors'].to_parquet('hospital_sectors.parquet')"
   ]
  },
  {
   "cell_type": "markdown",
   "metadata": {},
   "source": [
    "### Sectors admissions dataset"
   ]
  },
  {
   "cell_type": "markdown",
   "metadata": {},
   "source": [
    "##### Rename columns"
   ]
  },
  {
   "cell_type": "code",
   "execution_count": 62,
   "metadata": {},
   "outputs": [],
   "source": [
    "series_names = { \n",
    "   'Nro Adm': 'admission_id', \n",
    "    'Nro H.C.': 'patient_id', \n",
    "    'FecIngrSec': 'sector_admission_date', \n",
    "    'HoraIngrSec': 'sector_admission_time', \n",
    "    'Sector': 'sector_code', \n",
    "    'Categ': 'category'}"
   ]
  },
  {
   "cell_type": "code",
   "execution_count": 63,
   "metadata": {},
   "outputs": [],
   "source": [
    "db['sectors_admissions'].rename(series_names,axis=1, inplace=True)"
   ]
  },
  {
   "cell_type": "markdown",
   "metadata": {},
   "source": [
    "##### Generate datetime columns"
   ]
  },
  {
   "cell_type": "code",
   "execution_count": 69,
   "metadata": {},
   "outputs": [],
   "source": [
    "db['sectors_admissions']['sector_admission_datetime']  = pd.to_datetime(db['sectors_admissions'].sector_admission_date.map(str)+\" \"+db['sectors_admissions'].sector_admission_time.map(str))"
   ]
  },
  {
   "cell_type": "code",
   "execution_count": 70,
   "metadata": {
    "scrolled": true
   },
   "outputs": [
    {
     "data": {
      "text/html": [
       "<div>\n",
       "<style scoped>\n",
       "    .dataframe tbody tr th:only-of-type {\n",
       "        vertical-align: middle;\n",
       "    }\n",
       "\n",
       "    .dataframe tbody tr th {\n",
       "        vertical-align: top;\n",
       "    }\n",
       "\n",
       "    .dataframe thead th {\n",
       "        text-align: right;\n",
       "    }\n",
       "</style>\n",
       "<table border=\"1\" class=\"dataframe\">\n",
       "  <thead>\n",
       "    <tr style=\"text-align: right;\">\n",
       "      <th></th>\n",
       "      <th>admission_id</th>\n",
       "      <th>patient_id</th>\n",
       "      <th>sector_admission_date</th>\n",
       "      <th>sector_admission_time</th>\n",
       "      <th>sector_code</th>\n",
       "      <th>category</th>\n",
       "      <th>sector_admission_datetime</th>\n",
       "    </tr>\n",
       "  </thead>\n",
       "  <tbody>\n",
       "    <tr>\n",
       "      <th>0</th>\n",
       "      <td>466470-1</td>\n",
       "      <td>3526141-4</td>\n",
       "      <td>2017-01-01</td>\n",
       "      <td>02:00:00</td>\n",
       "      <td>EME</td>\n",
       "      <td>I</td>\n",
       "      <td>2017-01-01 02:00:00</td>\n",
       "    </tr>\n",
       "    <tr>\n",
       "      <th>1</th>\n",
       "      <td>466470-1</td>\n",
       "      <td>3526141-4</td>\n",
       "      <td>2017-01-01</td>\n",
       "      <td>07:53:00</td>\n",
       "      <td>T16</td>\n",
       "      <td>C</td>\n",
       "      <td>2017-01-01 07:53:00</td>\n",
       "    </tr>\n",
       "    <tr>\n",
       "      <th>2</th>\n",
       "      <td>466471-4</td>\n",
       "      <td>3714597-2</td>\n",
       "      <td>2017-01-01</td>\n",
       "      <td>02:00:00</td>\n",
       "      <td>EME</td>\n",
       "      <td>I</td>\n",
       "      <td>2017-01-01 02:00:00</td>\n",
       "    </tr>\n",
       "    <tr>\n",
       "      <th>3</th>\n",
       "      <td>466471-4</td>\n",
       "      <td>3714597-2</td>\n",
       "      <td>2017-01-01</td>\n",
       "      <td>06:38:00</td>\n",
       "      <td>UCO</td>\n",
       "      <td>I</td>\n",
       "      <td>2017-01-01 06:38:00</td>\n",
       "    </tr>\n",
       "    <tr>\n",
       "      <th>4</th>\n",
       "      <td>466472-7</td>\n",
       "      <td>3714595-2</td>\n",
       "      <td>2017-01-01</td>\n",
       "      <td>02:00:00</td>\n",
       "      <td>T10</td>\n",
       "      <td>C</td>\n",
       "      <td>2017-01-01 02:00:00</td>\n",
       "    </tr>\n",
       "  </tbody>\n",
       "</table>\n",
       "</div>"
      ],
      "text/plain": [
       "  admission_id patient_id sector_admission_date sector_admission_time  \\\n",
       "0     466470-1  3526141-4            2017-01-01              02:00:00   \n",
       "1     466470-1  3526141-4            2017-01-01              07:53:00   \n",
       "2     466471-4  3714597-2            2017-01-01              02:00:00   \n",
       "3     466471-4  3714597-2            2017-01-01              06:38:00   \n",
       "4     466472-7  3714595-2            2017-01-01              02:00:00   \n",
       "\n",
       "  sector_code category sector_admission_datetime  \n",
       "0         EME        I       2017-01-01 02:00:00  \n",
       "1         T16        C       2017-01-01 07:53:00  \n",
       "2         EME        I       2017-01-01 02:00:00  \n",
       "3         UCO        I       2017-01-01 06:38:00  \n",
       "4         T10        C       2017-01-01 02:00:00  "
      ]
     },
     "execution_count": 70,
     "metadata": {},
     "output_type": "execute_result"
    }
   ],
   "source": [
    "db['sectors_admissions'].head()"
   ]
  },
  {
   "cell_type": "markdown",
   "metadata": {},
   "source": [
    "##### Save as .parquet"
   ]
  },
  {
   "cell_type": "code",
   "execution_count": 71,
   "metadata": {},
   "outputs": [],
   "source": [
    "db['sectors_admissions'].to_parquet('sectors_admissions.parquet')"
   ]
  },
  {
   "cell_type": "markdown",
   "metadata": {},
   "source": [
    "### Surgeries"
   ]
  },
  {
   "cell_type": "markdown",
   "metadata": {},
   "source": [
    "##### Rename columns"
   ]
  },
  {
   "cell_type": "code",
   "execution_count": 26,
   "metadata": {},
   "outputs": [],
   "source": [
    "series_names = {'Quirófano' : 'operating_room', \n",
    "                'FechaQuirof' : 'surgery_date', \n",
    "                'DíaSem': 'surgery_weekday', \n",
    "                'AñoMes': 'surgery_year_month',\n",
    "                'HoraProgram': 'surgery_scheduled_time', \n",
    "                'CodAdmision': 'admission_id', \n",
    "                'UrgProgProtoc': 'surgery_type',\n",
    "                'IdCirugia': 'surgery_id',\n",
    "                'DescProgOri': 'origin' ,\n",
    "                'HistClínica': 'patient_id',\n",
    "                'Sexo': 'gender', \n",
    "                'Edad': 'age', \n",
    "                'Motivo Alta': 'discharge_type',\n",
    "                'DescripEntidad': 'entity_description', \n",
    "                'Diagnostico': 'diagnosis',\n",
    "                'Operación Programada': 'scheduled_surgery',\n",
    "                'Operación en Parte Quirúrgico': 'actual_surgery', \n",
    "                'Cirujano': 'surgery_physician', \n",
    "                'Dependencia': 'dependency',\n",
    "                'DescripTipoAnestesia': 'anesthesia_type',  \n",
    "                'Antisepsia': 'antisepsia', \n",
    "                'ATB profiláctico':'prophylactic_ATB',\n",
    "                'Dosis mg': 'dosis_mg', \n",
    "                'CamaSolic': 'bed_request', \n",
    "                'Hemoterapia': 'hemotherapy' , \n",
    "                'HemoOk': 'hemo_ok', \n",
    "                'Rayos': 'x_ray' , \n",
    "                'Cardiologo':'cardiologist' ,\n",
    "                'Material': 'supplies',\n",
    "                'MateOk': 'supplies_ok', \n",
    "                'NroProtocolo': 'protocol_no', \n",
    "                'DescripServicio': 'service_description', \n",
    "                'OperCod': 'surgery_code',\n",
    "                'CamaSector': 'sector_bed', \n",
    "                'DescripEspecialidad':'specialization',\n",
    "                'DuracionEstimada':'estimated_duration', \n",
    "                'HoraInic': 'surgery_startime',\n",
    "                'HoraFin': 'surgery_endtime', \n",
    "                'DemoraInicio': 'surgery_delay',\n",
    "                'FechaInternac': 'hospitalization_date', \n",
    "                'EspecPrestador': 'specialization_code',\n",
    "                'HoraIngre': 'entry_time' , \n",
    "                'HoraEgre': 'exit_time', \n",
    "                'HoraIndAnes': 'anesthesia_startime', \n",
    "                'HoraFinAnes': 'anesthesia_endtime', \n",
    "                'PostOper':  'post_surgery_condition',\n",
    "                'FechaAdmision' : 'admission_date', \n",
    "                'HoraAdm': 'admission_time', \n",
    "                'FechaAlta': 'discharge_date',\n",
    "                'HoraAlta' : 'discharge_time', \n",
    "                'ReCirug': 're_surgery', \n",
    "                'CantCirug': 'no_of_surgeries', \n",
    "                'CaderaExpress': 'hips_surgery',\n",
    "                'TipoHerida': 'injury_condition' ,\n",
    "                'DuracionPreCirugia': 'pre_surgery_duration',\n",
    "                'DuracionCirugia': 'surgery_duration',\n",
    "                'DuracionPostCirugia': 'post_surgery_duration',\n",
    "                'DuracionPreparacion': 'surgery_prep_duration', \n",
    "                'Reinternación': 're_admission_id',\n",
    "                'Antibiot':'antibiotic' ,\n",
    "                'Cultivo': 'seeding', \n",
    "                'CntAyud': 'no._of_assistans', \n",
    "                'MatricAnest': 'anesthetist_id', \n",
    "                'Gestac': 'no._of_pregnancies' , \n",
    "                'Partos': 'no._births',\n",
    "                'Cesár.': 'no._of_cesarean', \n",
    "                'Nulípara':'nulliparous', \n",
    "                'IdRelRN': 'new_born_id_rel', \n",
    "                'NroAdmRN': 'new_born_admission_id', \n",
    "                'PesoRecNac': 'new_born_weight', \n",
    "                'EdadGestac': 'new_born_gestation_age', \n",
    "                'BebeEgresoVivo': 'new_born_alive', \n",
    "                'BactPosit': 'bact_positive'}"
   ]
  },
  {
   "cell_type": "code",
   "execution_count": 27,
   "metadata": {},
   "outputs": [],
   "source": [
    "db['surgeries'].rename(series_names,axis=1, inplace=True)"
   ]
  },
  {
   "cell_type": "markdown",
   "metadata": {},
   "source": [
    "##### Drop columns"
   ]
  },
  {
   "cell_type": "code",
   "execution_count": null,
   "metadata": {},
   "outputs": [],
   "source": [
    "columns_to_drop = ['EstadoAgrup','DíasIntern','HhIndAnes','HhInicio','TorreLapar']"
   ]
  },
  {
   "cell_type": "code",
   "execution_count": 29,
   "metadata": {},
   "outputs": [],
   "source": [
    "db['surgeries'].drop(columns_to_drop,axis=1, inplace=True)"
   ]
  },
  {
   "cell_type": "markdown",
   "metadata": {},
   "source": [
    "##### Format boolean columns"
   ]
  },
  {
   "cell_type": "code",
   "execution_count": 30,
   "metadata": {},
   "outputs": [],
   "source": [
    "boolean_cols = ['G.A.P.','bed_request', 'hemotherapy', 'hemo_ok', 'x_ray', 'cardiologist', 'supplies', 'supplies_ok','hips_surgery', \n",
    "'nulliparous']"
   ]
  },
  {
   "cell_type": "code",
   "execution_count": 31,
   "metadata": {},
   "outputs": [],
   "source": [
    "for col in boolean_cols:\n",
    "    db['surgeries'][col] = db['surgeries'][col].apply(lambda x : True if x == 'Sí' else  (False if x == 'No' else None ))"
   ]
  },
  {
   "cell_type": "markdown",
   "metadata": {},
   "source": [
    "###### Generate new columns"
   ]
  },
  {
   "cell_type": "code",
   "execution_count": 41,
   "metadata": {},
   "outputs": [],
   "source": [
    "duration_cols = ['estimated_duration',\n",
    "'pre_surgery_duration',\n",
    "'surgery_duration',\n",
    "'post_surgery_duration',\n",
    "'surgery_prep_duration']"
   ]
  },
  {
   "cell_type": "code",
   "execution_count": 45,
   "metadata": {},
   "outputs": [],
   "source": [
    "for col in duration_cols:\n",
    "    \n",
    "    minutes_duration_series = []\n",
    "    for i in pd.to_datetime(db['surgeries'][col], errors='ignore').dt.time:\n",
    "        minutes_duration_series.append(i.hour*60+i.minute)\n",
    "    \n",
    "    db['surgeries'][col] = pd.Series(minutes_duration_series)"
   ]
  },
  {
   "cell_type": "code",
   "execution_count": 48,
   "metadata": {},
   "outputs": [],
   "source": [
    "db['surgeries']['scheduled_surgery_done'] = db['surgeries'].scheduled_surgery == db['surgeries'].actual_surgery"
   ]
  },
  {
   "cell_type": "markdown",
   "metadata": {},
   "source": [
    "##### Save as .parquet"
   ]
  },
  {
   "cell_type": "code",
   "execution_count": 56,
   "metadata": {},
   "outputs": [],
   "source": [
    "db['surgeries'].to_parquet('surgeries.parquet')"
   ]
  }
 ],
 "metadata": {
  "kernelspec": {
   "display_name": "Python 3",
   "language": "python",
   "name": "python3"
  },
  "language_info": {
   "codemirror_mode": {
    "name": "ipython",
    "version": 3
   },
   "file_extension": ".py",
   "mimetype": "text/x-python",
   "name": "python",
   "nbconvert_exporter": "python",
   "pygments_lexer": "ipython3",
   "version": "3.6.4"
  }
 },
 "nbformat": 4,
 "nbformat_minor": 2
}
